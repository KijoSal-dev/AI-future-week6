{
  "nbformat": 4,
  "nbformat_minor": 0,
  "metadata": {
    "colab": {
      "provenance": [],
      "authorship_tag": "ABX9TyOM3UQOh2v5zfVZJ49pqzQB",
      "include_colab_link": true
    },
    "kernelspec": {
      "name": "python3",
      "display_name": "Python 3"
    },
    "language_info": {
      "name": "python"
    }
  },
  "cells": [
    {
      "cell_type": "markdown",
      "metadata": {
        "id": "view-in-github",
        "colab_type": "text"
      },
      "source": [
        "<a href=\"https://colab.research.google.com/github/KijoSal-dev/AI-future-week6/blob/main/wk6tsk2.ipynb\" target=\"_parent\"><img src=\"https://colab.research.google.com/assets/colab-badge.svg\" alt=\"Open In Colab\"/></a>"
      ]
    },
    {
      "cell_type": "code",
      "execution_count": 1,
      "metadata": {
        "colab": {
          "base_uri": "https://localhost:8080/"
        },
        "id": "yXdcU8NWkCL5",
        "outputId": "21e02413-d7c9-4bb2-cf58-5e25b2f08832"
      },
      "outputs": [
        {
          "output_type": "stream",
          "name": "stdout",
          "text": [
            "--- Starting Smart Agriculture Cycle ---\n",
            "📡 Data collected: {'soil_moisture': 38.85, 'temperature': 22.5, 'humidity': 30.49, 'light_intensity': 21796.0}\n",
            "\n",
            "🧠 AI model processing data...\n",
            "✅ Prediction: High Yield Predicted\n",
            "\n",
            "----------------------------------------\n",
            "System Recommendation: Conditions are optimal. Monitor.\n",
            "----------------------------------------\n",
            "\n"
          ]
        }
      ],
      "source": [
        "import random\n",
        "\n",
        "# --- 1. Sensor Data Simulation ---\n",
        "# In a real system, this data would come from actual IoT hardware.\n",
        "def get_sensor_readings():\n",
        "    \"\"\"Simulates collecting data from various farm sensors.\"\"\"\n",
        "    sensors = {\n",
        "        'soil_moisture': round(random.uniform(20.0, 80.0), 2),  # Percentage\n",
        "        'temperature': round(random.uniform(15.0, 40.0), 2),     # Celsius\n",
        "        'humidity': round(random.uniform(30.0, 90.0), 2),        # Percentage\n",
        "        'light_intensity': round(random.uniform(5000, 25000), 2) # Lux\n",
        "    }\n",
        "    print(f\"📡 Data collected: {sensors}\")\n",
        "    return sensors\n",
        "\n",
        "# --- 2. AI Model for Prediction ---\n",
        "# This function represents a trained AI model (e.g., a regression or classification model).\n",
        "def predict_yield_and_action(data):\n",
        "    \"\"\"\n",
        "    Processes sensor data to predict yield and recommend an action.\n",
        "    Uses simple rules to simulate a trained AI model's logic.\n",
        "    \"\"\"\n",
        "    print(\"\\n🧠 AI model processing data...\")\n",
        "\n",
        "    # Example logic: Low moisture is the most critical factor for action\n",
        "    if data['soil_moisture'] < 35.0:\n",
        "        prediction = 'Low Yield Predicted'\n",
        "        action = 'ACTION: Activate irrigation system immediately.'\n",
        "    elif data['temperature'] > 35.0:\n",
        "        prediction = 'Medium Yield Predicted'\n",
        "        action = 'ACTION: Activate cooling fans or shading.'\n",
        "    else:\n",
        "        prediction = 'High Yield Predicted'\n",
        "        action = 'Conditions are optimal. Monitor.'\n",
        "\n",
        "    print(f\"✅ Prediction: {prediction}\")\n",
        "    return action\n",
        "\n",
        "# --- 3. Main Data Flow ---\n",
        "def run_smart_farm_cycle():\n",
        "    \"\"\"Simulates one cycle of the data flow from sensor to action.\"\"\"\n",
        "    print(\"--- Starting Smart Agriculture Cycle ---\")\n",
        "\n",
        "    # Step 1: Collect data from IoT sensors\n",
        "    sensor_data = get_sensor_readings()\n",
        "\n",
        "    # Step 2: AI model processes data and recommends an action\n",
        "    recommended_action = predict_yield_and_action(sensor_data)\n",
        "\n",
        "    # Step 3: Display the final recommendation\n",
        "    print(\"\\n----------------------------------------\")\n",
        "    print(f\"System Recommendation: {recommended_action}\")\n",
        "    print(\"----------------------------------------\\n\")\n",
        "\n",
        "# --- Run the Simulation ---\n",
        "if __name__ == \"__main__\":\n",
        "    run_smart_farm_cycle()"
      ]
    }
  ]
}