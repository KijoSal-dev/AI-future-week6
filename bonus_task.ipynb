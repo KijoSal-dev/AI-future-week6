{
  "nbformat": 4,
  "nbformat_minor": 0,
  "metadata": {
    "colab": {
      "provenance": [],
      "authorship_tag": "ABX9TyMaqW9AwHQLTAyiq4V0Sy3M",
      "include_colab_link": true
    },
    "kernelspec": {
      "name": "python3",
      "display_name": "Python 3"
    },
    "language_info": {
      "name": "python"
    }
  },
  "cells": [
    {
      "cell_type": "markdown",
      "metadata": {
        "id": "view-in-github",
        "colab_type": "text"
      },
      "source": [
        "<a href=\"https://colab.research.google.com/github/KijoSal-dev/AI-future-week6/blob/main/bonus_task.ipynb\" target=\"_parent\"><img src=\"https://colab.research.google.com/assets/colab-badge.svg\" alt=\"Open In Colab\"/></a>"
      ]
    },
    {
      "cell_type": "code",
      "execution_count": 10,
      "metadata": {
        "colab": {
          "base_uri": "https://localhost:8080/"
        },
        "id": "YbVrs9Z99-yA",
        "outputId": "a251a40e-c812-451b-9823-306a70fd9293"
      },
      "outputs": [
        {
          "output_type": "stream",
          "name": "stdout",
          "text": [
            "Requirement already satisfied: qiskit in /usr/local/lib/python3.11/dist-packages (2.1.1)\n",
            "Requirement already satisfied: qiskit-aer in /usr/local/lib/python3.11/dist-packages (0.17.1)\n",
            "Requirement already satisfied: rustworkx>=0.15.0 in /usr/local/lib/python3.11/dist-packages (from qiskit) (0.16.0)\n",
            "Requirement already satisfied: numpy<3,>=1.17 in /usr/local/lib/python3.11/dist-packages (from qiskit) (2.0.2)\n",
            "Requirement already satisfied: scipy>=1.5 in /usr/local/lib/python3.11/dist-packages (from qiskit) (1.15.3)\n",
            "Requirement already satisfied: dill>=0.3 in /usr/local/lib/python3.11/dist-packages (from qiskit) (0.3.7)\n",
            "Requirement already satisfied: stevedore>=3.0.0 in /usr/local/lib/python3.11/dist-packages (from qiskit) (5.4.1)\n",
            "Requirement already satisfied: typing-extensions in /usr/local/lib/python3.11/dist-packages (from qiskit) (4.14.1)\n",
            "Requirement already satisfied: psutil>=5 in /usr/local/lib/python3.11/dist-packages (from qiskit-aer) (5.9.5)\n",
            "Requirement already satisfied: python-dateutil>=2.8.0 in /usr/local/lib/python3.11/dist-packages (from qiskit-aer) (2.9.0.post0)\n",
            "Requirement already satisfied: six>=1.5 in /usr/local/lib/python3.11/dist-packages (from python-dateutil>=2.8.0->qiskit-aer) (1.17.0)\n",
            "Requirement already satisfied: pbr>=2.0.0 in /usr/local/lib/python3.11/dist-packages (from stevedore>=3.0.0->qiskit) (6.1.1)\n",
            "Requirement already satisfied: setuptools in /usr/local/lib/python3.11/dist-packages (from pbr>=2.0.0->stevedore>=3.0.0->qiskit) (75.2.0)\n",
            "Requirement already satisfied: qiskit in /usr/local/lib/python3.11/dist-packages (2.1.1)\n",
            "Requirement already satisfied: qiskit-aer in /usr/local/lib/python3.11/dist-packages (0.17.1)\n",
            "Requirement already satisfied: matplotlib in /usr/local/lib/python3.11/dist-packages (3.10.0)\n",
            "Requirement already satisfied: rustworkx>=0.15.0 in /usr/local/lib/python3.11/dist-packages (from qiskit) (0.16.0)\n",
            "Requirement already satisfied: numpy<3,>=1.17 in /usr/local/lib/python3.11/dist-packages (from qiskit) (2.0.2)\n",
            "Requirement already satisfied: scipy>=1.5 in /usr/local/lib/python3.11/dist-packages (from qiskit) (1.15.3)\n",
            "Requirement already satisfied: dill>=0.3 in /usr/local/lib/python3.11/dist-packages (from qiskit) (0.3.7)\n",
            "Requirement already satisfied: stevedore>=3.0.0 in /usr/local/lib/python3.11/dist-packages (from qiskit) (5.4.1)\n",
            "Requirement already satisfied: typing-extensions in /usr/local/lib/python3.11/dist-packages (from qiskit) (4.14.1)\n",
            "Requirement already satisfied: psutil>=5 in /usr/local/lib/python3.11/dist-packages (from qiskit-aer) (5.9.5)\n",
            "Requirement already satisfied: python-dateutil>=2.8.0 in /usr/local/lib/python3.11/dist-packages (from qiskit-aer) (2.9.0.post0)\n",
            "Requirement already satisfied: contourpy>=1.0.1 in /usr/local/lib/python3.11/dist-packages (from matplotlib) (1.3.2)\n",
            "Requirement already satisfied: cycler>=0.10 in /usr/local/lib/python3.11/dist-packages (from matplotlib) (0.12.1)\n",
            "Requirement already satisfied: fonttools>=4.22.0 in /usr/local/lib/python3.11/dist-packages (from matplotlib) (4.58.5)\n",
            "Requirement already satisfied: kiwisolver>=1.3.1 in /usr/local/lib/python3.11/dist-packages (from matplotlib) (1.4.8)\n",
            "Requirement already satisfied: packaging>=20.0 in /usr/local/lib/python3.11/dist-packages (from matplotlib) (25.0)\n",
            "Requirement already satisfied: pillow>=8 in /usr/local/lib/python3.11/dist-packages (from matplotlib) (11.2.1)\n",
            "Requirement already satisfied: pyparsing>=2.3.1 in /usr/local/lib/python3.11/dist-packages (from matplotlib) (3.2.3)\n",
            "Requirement already satisfied: six>=1.5 in /usr/local/lib/python3.11/dist-packages (from python-dateutil>=2.8.0->qiskit-aer) (1.17.0)\n",
            "Requirement already satisfied: pbr>=2.0.0 in /usr/local/lib/python3.11/dist-packages (from stevedore>=3.0.0->qiskit) (6.1.1)\n",
            "Requirement already satisfied: setuptools in /usr/local/lib/python3.11/dist-packages (from pbr>=2.0.0->stevedore>=3.0.0->qiskit) (75.2.0)\n",
            "     ┌───┐     ┌─┐   \n",
            "q_0: ┤ H ├──■──┤M├───\n",
            "     └───┘┌─┴─┐└╥┘┌─┐\n",
            "q_1: ─────┤ X ├─╫─┤M├\n",
            "          └───┘ ║ └╥┘\n",
            "c: 2/═══════════╩══╩═\n",
            "                0  1 \n",
            "\n",
            "Total count for each outcome: {'00': 487, '11': 513}\n"
          ]
        }
      ],
      "source": [
        "%pip install qiskit qiskit-aer\n",
        "%pip install qiskit qiskit-aer matplotlib\n",
        "from qiskit import QuantumCircuit\n",
        "# from qiskit.providers.aer import Aer # Old import\n",
        "from qiskit_aer import Aer # New import\n",
        "from qiskit.visualization import plot_histogram\n",
        "import matplotlib.pyplot as plt\n",
        "\n",
        "# Create a Quantum Circuit with 2 qubits and 2 classical bits\n",
        "qc = QuantumCircuit(2, 2)\n",
        "\n",
        "# Step 1: Apply Hadamard gate to qubit 0 to create superposition\n",
        "qc.h(0)\n",
        "\n",
        "# Step 2: Apply CNOT gate (controlled-X) with qubit 0 controlling qubit 1, creating entanglement\n",
        "qc.cx(0, 1)\n",
        "\n",
        "# Step 3: Measure the qubits into the classical bits\n",
        "qc.measure([0, 1], [0, 1])\n",
        "\n",
        "# Visualize the circuit\n",
        "print(qc.draw())\n",
        "\n",
        "# Use Aer's qasm_simulator\n",
        "simulator = Aer.get_backend('qasm_simulator')\n",
        "\n",
        "# Execute the circuit on the simulator with 1000 shots\n",
        "job = simulator.run(qc, shots=1000)\n",
        "\n",
        "# Grab results from the job\n",
        "result = job.result()\n",
        "\n",
        "# Get the counts (measurement outcomes)\n",
        "counts = result.get_counts(qc)\n",
        "print(\"\\nTotal count for each outcome:\", counts)\n",
        "\n",
        "# Plot a histogram of results\n",
        "plot_histogram(counts)\n",
        "plt.show()"
      ]
    },
    {
      "cell_type": "code",
      "metadata": {
        "colab": {
          "base_uri": "https://localhost:8080/"
        },
        "id": "9317fd20",
        "outputId": "9f11cff9-634d-4195-f77f-7d9adf1adb48"
      },
      "source": [
        "%pip list | grep qiskit"
      ],
      "execution_count": 4,
      "outputs": [
        {
          "output_type": "stream",
          "name": "stdout",
          "text": [
            "qiskit                                2.1.1\n",
            "qiskit-aer                            0.17.1\n"
          ]
        }
      ]
    },
    {
      "cell_type": "code",
      "metadata": {
        "colab": {
          "base_uri": "https://localhost:8080/"
        },
        "id": "4bfe364a",
        "outputId": "69157eb2-cbb8-4e7d-c9a1-333d8341d15a"
      },
      "source": [
        "import qiskit.version\n",
        "import qiskit_aer.version\n",
        "print(\"Qiskit version:\", qiskit.version.__version__)\n",
        "print(\"Qiskit-Aer version:\", qiskit_aer.version.__version__)"
      ],
      "execution_count": 5,
      "outputs": [
        {
          "output_type": "stream",
          "name": "stdout",
          "text": [
            "Qiskit version: 2.1.1\n",
            "Qiskit-Aer version: 0.17.1\n"
          ]
        }
      ]
    },
    {
      "cell_type": "markdown",
      "metadata": {
        "id": "52d21fbd"
      },
      "source": [
        "Let's break down the output you received:\n",
        "\n",
        "1.  **Circuit Diagram:**"
      ]
    },
    {
      "cell_type": "markdown",
      "metadata": {
        "id": "86687000"
      },
      "source": [
        "Let's break down the output you received:\n",
        "\n",
        "1.  **Circuit Diagram:**\n",
        "     ┌───┐     ┌─┐   \n",
        "q_0: ┤ H ├──■──┤M├───\n",
        "     └───┘┌─┴─┐└╥┘┌─┐\n",
        "q_1: ─────┤ X ├─╫─┤M├\n",
        "          └───┘ ║ └╥┘\n",
        "c: 2/═══════════╩══╩═\n",
        "                0  1\n",
        "\n",
        " This is a visual representation of the quantum circuit you built.\n",
        "\n",
        "    q_0 and q_1 represent the two quantum bits (qubits).\n",
        "    c: 2/ represents the two classical bits where the measurement results are stored.\n",
        "    ┤ H ├── on q_0 is a Hadamard gate, which puts the first qubit into a superposition of |0⟩ and |1⟩.\n",
        "    ───■── on q_0 is the control part of the CNOT gate.\n",
        "    ┌─┴─┐ and ┤ X ├ on q_1 is the target part of the CNOT gate. This gate flips the state of q_1 if q_0 is |1⟩.\n",
        "    ┤M├─── and ──┤M├ represent the measurement operations, mapping the quantum states of q_0 and q_1 to the classical bits c_0 and c_1.\n",
        "       2. Total count for each outcome:\n",
        "\n",
        "Total count for each outcome: {'00': 487, '11': 513}\n",
        " This shows the results of running the circuit on the simulator 1000 times (shots=1000).\n",
        "\n",
        "    The keys ('00' and '11') represent the possible outcomes of measuring the two classical bits. '00' means both classical bits were 0, and '11' means both were 1. The order of the bits corresponds to the order of the qubits measured (qubit 0 measured into classical bit 0, and qubit 1 into classical bit 1).\n",
        "    The values (487 and 513) are the number of times each outcome was observed.\n",
        "\n",
        "This output is characteristic of an entangled state. After applying the Hadamard and CNOT gates, the two qubits are in a state where they are correlated. Measuring the qubits then results in either both being 0 (00) or both being 1 (11), but rarely (ideally never, in a perfect scenario) in the '01' or '10' states. The counts you see are close to a 50/50 split between '00' and '11', which is the expected result for this entangled state when measured in the computational basis.\n",
        "\n"
      ]
    }
  ]
}